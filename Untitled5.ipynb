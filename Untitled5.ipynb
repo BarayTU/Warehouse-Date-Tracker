{
 "cells": [
  {
   "cell_type": "code",
   "execution_count": 22,
   "metadata": {},
   "outputs": [
    {
     "ename": "SyntaxError",
     "evalue": "invalid syntax (<ipython-input-22-55ce3ba6cbba>, line 18)",
     "output_type": "error",
     "traceback": [
      "\u001b[1;36m  File \u001b[1;32m\"<ipython-input-22-55ce3ba6cbba>\"\u001b[1;36m, line \u001b[1;32m18\u001b[0m\n\u001b[1;33m    product_names.append(user_product_add_name)\u001b[0m\n\u001b[1;37m    ^\u001b[0m\n\u001b[1;31mSyntaxError\u001b[0m\u001b[1;31m:\u001b[0m invalid syntax\n"
     ]
    }
   ],
   "source": [
    "\"\"\"import csv\n",
    "with open('dates','w', newline='') as file:\n",
    "    writer = csv.writer(file)\n",
    "    writer.writerow([\"SN\", \"Name\", \"Contribution\"])\n",
    "    writer.writerow([1, \"Linus Torvalds\", \"Linux Kernel\"])\n",
    "    writer.writerow([2, \"Tim Berners-Lee\", \"World Wide Web\"])\n",
    "    writer.writerow([3, \"Guido van Rossum\", \"Python Programming\"])\n",
    "     \"\"\"\n",
    "\n",
    "# In upper part ı am trying to make adjustments and process in csv file but ı couldn't write on file that ı have \n",
    "\n",
    "def product_add_app():\n",
    "    product_names=[]\n",
    "    product_expiration_dates=[]\n",
    "    print(\"Welcome to Product Add Menu\")\n",
    "    user_product_add_name=str(input(\"Please enter name of product\"))\n",
    "    user_product_add_date=str(input((\"Please enter expiration date of product\"))\n",
    "    product_names.append(user_product_add_name)\n",
    "    product_expiration_dates.append(user_product_add_date)\n",
    "    product_list =product_names,product_expiration_dates\n",
    "        \n",
    "def review_dates_app():\n",
    "    print(\"Welcome to Reviews Dates Menu\")\n",
    "    user_review_choice=str(\"Please enter name of product you want to check\")\n",
    "    print(product_list[user_review_choice])\n",
    "    \n",
    "    \n",
    "def main_menu(first_choice):\n",
    "    print(\"Please Choose thing that you want to do from menu and write it as an integer\")\n",
    "    print(\"1-Product Add\")\n",
    "    print(\"2-Review Dates\")\n",
    "    user_menu_input = int()\n",
    "    if user_menu_input == 1:\n",
    "        product_add()\n",
    "    if user_menu_input == 2:\n",
    "        review_dates_app()\n",
    "    \n",
    "product_add_app()"
   ]
  },
  {
   "cell_type": "code",
   "execution_count": 23,
   "metadata": {},
   "outputs": [
    {
     "ename": "SyntaxError",
     "evalue": "invalid syntax (<ipython-input-23-03a9710a3c27>, line 1)",
     "output_type": "error",
     "traceback": [
      "\u001b[1;36m  File \u001b[1;32m\"<ipython-input-23-03a9710a3c27>\"\u001b[1;36m, line \u001b[1;32m1\u001b[0m\n\u001b[1;33m    gh repo clone BarayTU/Warehouse-Date-Tracker\u001b[0m\n\u001b[1;37m       ^\u001b[0m\n\u001b[1;31mSyntaxError\u001b[0m\u001b[1;31m:\u001b[0m invalid syntax\n"
     ]
    }
   ],
   "source": [
    "gh repo clone BarayTU/Warehouse-Date-Tracker"
   ]
  },
  {
   "cell_type": "code",
   "execution_count": null,
   "metadata": {},
   "outputs": [],
   "source": []
  }
 ],
 "metadata": {
  "kernelspec": {
   "display_name": "Python 3",
   "language": "python",
   "name": "python3"
  },
  "language_info": {
   "codemirror_mode": {
    "name": "ipython",
    "version": 3
   },
   "file_extension": ".py",
   "mimetype": "text/x-python",
   "name": "python",
   "nbconvert_exporter": "python",
   "pygments_lexer": "ipython3",
   "version": "3.8.3"
  }
 },
 "nbformat": 4,
 "nbformat_minor": 4
}
